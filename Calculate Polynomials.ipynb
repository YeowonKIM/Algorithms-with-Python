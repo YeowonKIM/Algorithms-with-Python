{
 "cells": [
  {
   "cell_type": "markdown",
   "id": "e44fb488",
   "metadata": {},
   "source": [
    "## 다항식 계산하기\n",
    "<br>\n",
    "\n",
    "<img src=\"https://img1.daumcdn.net/thumb/R1280x0/?scode=mtistory2&fname=https%3A%2F%2Fblog.kakaocdn.net%2Fdn%2Fyl6Nm%2FbtsdZAGOCGr%2FugMiDWPqOL3jIXgtRPs1Mk%2Fimg.png\"  width=\"500\" height=\"60\">\n",
    "\n",
    "- n-1차 다항식\n",
    "- n개의 계수 (coefficient)가 리스트 A에 저장되어 있다고 하자.\n",
    "<br><br>\n",
    "\n",
    "### evaluate_n2(A, x)\n",
    "\n",
    "- f(x)를 계산하고 그 값을 리턴하는데, O(n^2) 시간의 계산이 필요한 함수\n",
    "- 각 항을 O(n) 시간에 계산함\n",
    "\n",
    "<br>\n",
    "\n",
    "### evaluate_n(A, x)\n",
    "\n",
    "- f(x)를 계산하고 그 값을 리턴하는데, O(n) 시간의 계산이 필요한 함수\n",
    "- 각 항을 O(1) 시간에 계산함\n",
    "\n",
    "<br>\n",
    "\n",
    "### 시간 측정법\n",
    "- time 모듈 이용\n",
    "- time.process_time() : 현재 프로세서 시간(초)를 리턴함.\n",
    "- time.perf_counter() : 특정 시작 시간으로부터 경과한 현재의 시간(초)를 리턴\n",
    "<br><br>"
   ]
  },
  {
   "cell_type": "code",
   "execution_count": 1,
   "id": "7ac257c3",
   "metadata": {},
   "outputs": [
    {
     "name": "stdout",
     "output_type": "stream",
     "text": [
      "5\n",
      "(-5275153419053, 2.6999999999999247e-05)\n",
      "(-5275153419053, 2.9999999999752447e-06)\n"
     ]
    }
   ],
   "source": [
    "import time, random\n",
    "from random import randrange\n",
    "\n",
    "def evaluate_n2(A, x):\n",
    "    sum = 0; tmp = 1\n",
    "    for i in range(n):\n",
    "        if i==0:\n",
    "            sum += A[i]\n",
    "        else:\n",
    "            for j in range(1, i+1): \n",
    "                tmp = tmp*x\n",
    "            sum += A[i]*tmp \n",
    "            tmp = 1\n",
    "    s = time.process_time()\n",
    "    e = time.process_time()\n",
    "    return sum, e-s;\n",
    "\n",
    "def evaluate_n(A, x):\n",
    "    sum = 0; tmp = 1\n",
    "    for i in range(n):\n",
    "        if i==0:\n",
    "            sum += A[i]\n",
    "        else:\n",
    "            tmp = tmp*x\n",
    "            sum += A[i]*tmp\n",
    "    s = time.process_time()\n",
    "    e = time.process_time()\n",
    "    return sum, e-s;\n",
    "\n",
    "A = []\n",
    "n = int(input())\n",
    "x = randrange(-1000, 1000)\n",
    "\n",
    "from random import randrange\n",
    "for r in range(n+1):\n",
    "    A.append(randrange(-1000, 1000))\n",
    "\n",
    "print(evaluate_n2(A, x))\n",
    "print(evaluate_n(A, x))"
   ]
  },
  {
   "cell_type": "code",
   "execution_count": null,
   "id": "9edd923c",
   "metadata": {},
   "outputs": [],
   "source": []
  }
 ],
 "metadata": {
  "kernelspec": {
   "display_name": "Python 3 (ipykernel)",
   "language": "python",
   "name": "python3"
  },
  "language_info": {
   "codemirror_mode": {
    "name": "ipython",
    "version": 3
   },
   "file_extension": ".py",
   "mimetype": "text/x-python",
   "name": "python",
   "nbconvert_exporter": "python",
   "pygments_lexer": "ipython3",
   "version": "3.9.13"
  }
 },
 "nbformat": 4,
 "nbformat_minor": 5
}

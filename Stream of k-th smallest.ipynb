{
 "cells": [
  {
   "cell_type": "markdown",
   "id": "53946d6d",
   "metadata": {},
   "source": [
    "\n",
    "## 연속해서 K번째 작은 값 찾기\n",
    "<br><br>\n",
    "\n",
    "### 입력\n",
    "\n",
    "- n개의 서로 다른 정수 값 (리스트 A에 저장한다고 가정)\n",
    "- 3 <= n <= 100,000\n",
    "\n",
    "<br>\n",
    "\n",
    "### 출력\n",
    "\n",
    "- m[i] 값을 A[0], ..., A[i] 중 (i//3 +1)-번째로 작은 값을 정의한다.\n",
    "- 제일 작은 값은 1-번째로 작다고 한다.\n",
    "- 모든 i=0, ..., n-1에 대해 m[i]의 값의 합을 출력한다.\n",
    "\n",
    "<br>\n",
    "\n",
    "### 추가 고려사항\n",
    "\n",
    "- 여러 알고리즘 중, 수행시간이 가능하면 작도록 알고리즘을 설계할 것.\n",
    "- 1) A[i] 값을 하나씩 보면서 선택 알고리즘을 실행하면 -> O(n^2)\n",
    "- 2) 힙과 같은 자료구조 사용 -> O(nlogn) 가능\n",
    "  - heap 구조는 파이썬의 heapq 모듈을 사용해도 되고, 직접 작성해도 됨.\n",
    "  - heappop, heappush, heapify 등 기본연산\n",
    "\n",
    "<br>\n",
    "\n",
    "### 입출력 예시\n",
    "\n",
    "- 1) [입력] 9 1 3 2 7 0 -2 4 5 <br>\n",
    "     [출력] 19\n",
    "- 2) [입력] 7 6 5 4 3 2 1 <br>\n",
    "     [출력] 33"
   ]
  },
  {
   "cell_type": "code",
   "execution_count": 1,
   "id": "7795daf8",
   "metadata": {},
   "outputs": [
    {
     "name": "stdout",
     "output_type": "stream",
     "text": [
      "7 6 5 4 3 2 1\n",
      "33\n"
     ]
    }
   ],
   "source": [
    "import heapq\n",
    "\n",
    "A = list(map(int,input().split()))\n",
    "\n",
    "def findKthMin(subList, k): # 1\n",
    "    # heapify를 통해 리스트(subList)의 원소들이 힙 구조에 맞게 재배치되며, 최소값이 0번째 인덱스에 위치하게 된다.\n",
    "    heapq.heapify(subList)\n",
    "    kMin = None\n",
    "    # heappop은 가장 작은 원소를 삭제하고 그 값을 리턴하므로, k번 반복함으로써 k번째 작은 값을 구할 수 있다.\n",
    "    for _ in range(k):\n",
    "        kMin = heapq.heappop(subList)\n",
    "    return kMin\n",
    "\n",
    "total = 0\n",
    "for i in range(len(A)):\n",
    "    subList = A[0:i+1] # 2\n",
    "    total += findKthMin(subList, i//3+1)  #3\n",
    "    \n",
    "print(total)"
   ]
  },
  {
   "cell_type": "code",
   "execution_count": null,
   "id": "18d97201",
   "metadata": {},
   "outputs": [],
   "source": []
  }
 ],
 "metadata": {
  "kernelspec": {
   "display_name": "Python 3 (ipykernel)",
   "language": "python",
   "name": "python3"
  },
  "language_info": {
   "codemirror_mode": {
    "name": "ipython",
    "version": 3
   },
   "file_extension": ".py",
   "mimetype": "text/x-python",
   "name": "python",
   "nbconvert_exporter": "python",
   "pygments_lexer": "ipython3",
   "version": "3.9.13"
  }
 },
 "nbformat": 4,
 "nbformat_minor": 5
}

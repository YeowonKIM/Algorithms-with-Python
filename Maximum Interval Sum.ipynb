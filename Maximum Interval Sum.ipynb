{
 "cells": [
  {
   "cell_type": "markdown",
   "id": "447a81b9",
   "metadata": {},
   "source": [
    "## 최대 구간 합\n",
    "\n",
    "<br> \n",
    "\n",
    "#### 문제\n",
    "- 정수 개수 n을 입력 받는다. (1 <= n <= 1,000,000) \n",
    "- 다음 줄에 n개의 정수를 입력 받아 리스트 A에 저장한다. (범위 : -1000~1000)\n",
    "- A에 저장된 정수들에 대해, A[i]+A[i+1]+...+A[j-1]+A[j] 값이 최대가 되는 i와 j(i<=j)를 계산한 후, 그 최대값을 출력한다.\n",
    "- 동적 계획법으로 구현한다.\n",
    "\n",
    "<br>\n",
    "\n",
    "#### 입출력 예시\n",
    "- 입력 : 100 <br>\n",
    "14 14 2 11 -10 -20 15 6 -16 10 -5 2 -5 4 -16 -8 -13 -1 15 8 4 -9 -15 16 -12 14 15 -2 2 9 2 0 1 \n",
    "- 출력 : 72\n",
    "\n",
    "<br>"
   ]
  },
  {
   "cell_type": "markdown",
   "id": "91360139",
   "metadata": {},
   "source": [
    "#### 알고리즘\n",
    "- 1. 최대합이 끝나는 인덱스가 i라고 할 때, A[j]로 끝나는 최대 구간 합 = A[j-1]로 끝나는 최대 구간 합 + A[j]\n",
    "- 2. 혹은 최대합이 A[i] 단 하나의 숫자로만 구성될 수도 있다.\n",
    "- 1과 2 중에서 최대값을 반환한다.\n",
    "\n",
    "<br> \n",
    "\n",
    "#### 수행시간\n",
    "- O(n) = DP의 원소 개수 x 원소 하나 채우는 데 필요 시간 = O(n) x O(1) "
   ]
  },
  {
   "cell_type": "code",
   "execution_count": 9,
   "id": "fd103415",
   "metadata": {},
   "outputs": [
    {
     "name": "stdout",
     "output_type": "stream",
     "text": [
      "8 \n",
      "-2 0 -1 3 2 -1 2 -2\n",
      "6\n"
     ]
    }
   ],
   "source": [
    "def find_max_sum(A):\n",
    "\tdp = [0] * len(A)\n",
    "\tdp[0] = A[0]\n",
    "\tfor i in range(1, len(A)):\n",
    "\t\tdp[i] = max(dp[i-1]+A[i], dp[i])\n",
    "\treturn max(dp)\n",
    "\n",
    "n = int(input())\n",
    "A = [int(x) for x in input().split()]\n",
    "print(find_max_sum(A))"
   ]
  },
  {
   "cell_type": "code",
   "execution_count": null,
   "id": "43bc1283",
   "metadata": {},
   "outputs": [],
   "source": []
  }
 ],
 "metadata": {
  "kernelspec": {
   "display_name": "Python 3 (ipykernel)",
   "language": "python",
   "name": "python3"
  },
  "language_info": {
   "codemirror_mode": {
    "name": "ipython",
    "version": 3
   },
   "file_extension": ".py",
   "mimetype": "text/x-python",
   "name": "python",
   "nbconvert_exporter": "python",
   "pygments_lexer": "ipython3",
   "version": "3.9.13"
  }
 },
 "nbformat": 4,
 "nbformat_minor": 5
}

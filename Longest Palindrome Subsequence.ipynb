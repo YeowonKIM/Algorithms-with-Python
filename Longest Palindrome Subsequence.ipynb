{
 "cells": [
  {
   "cell_type": "markdown",
   "id": "c1899505",
   "metadata": {},
   "source": [
    "# 최장 회문 부수열 (Longest Palindrome Subsequence)\n",
    "\n",
    "<br>\n",
    "\n",
    "### 문제\n",
    "- 영어 대문자로만 구성된 문자열이 주어지면, 입력 문자의 부수열(subsequence) 중에 가장 긴 회문(palindrome)의 길이를 출력한다.\n",
    "  - 문자열의 길이 : 1~2500\n",
    "  - 회문 : 오른쪽으로 읽거나 반대로 왼쪽으로 읽어도 같은 단어 (ex. radar, madam)\n",
    "- LCS(Longest Common Subsequence) 스타일의 동적 계획법 사용\n",
    "\n",
    "\n",
    "<br>\n",
    "\n",
    "### 입출력 예시\n",
    "- [입력] RADAR -> [출력] 5\n",
    "- [입력] CHEESECAKE -> [출력] 5\n",
    "- [입력] ACE -> [출력] 1\n",
    "\n",
    "<br>"
   ]
  },
  {
   "cell_type": "markdown",
   "id": "1047ae87",
   "metadata": {},
   "source": [
    "## Solution1\n",
    "### 알고리즘\n",
    "- 1. 단어를 대문자로 변경하고, 회문 검사를 위해 입력받은 단어를 뒤집은 문자열을 만든다.\n",
    "- 2. 2차원 배열 dp 테이블을 만든다. dp[i][j]는 원래 문자열의 i번째 글자까지와 뒤집은 문자열의 j번째 글자까지 고려할 때의 최장 회문 부수열의 길이를 저장한다.\n",
    "- 3. 만약 선택한 두 문자가 같다면, 이전 문자까지의 최장 회문 부수열 길이에 1을 더해 현재 dp[i][j]에 저장한다.\n",
    "  - 선택한 두 문자가 다르다면, 이전까지 계산한 최장 회문 부수열 길이 중 더 큰 값을 현재 dp[i][j]에 저장한다.\n",
    "- 4. 반복문이 끝나면, dp[n][n]에 저장된 값이 주어진 단어의 가장 긴 회문 부분 문자열의 길이가 되어 값을 반환한다.\n",
    "\n",
    "### 수행시간\n",
    "- 주어진 단어의 길이가 n이면, 이중 for문을 사용하여 dp 테이블을 채우는 시간이 걸리며 시간 복잡도는 O(n^2)이다.\n",
    "- 수행 시간은 주어진 단어의 길이에 따라 달라지고, 입력 단어 길이의 길이가 길어질수록 수행 시간이 증가한다.\n",
    "\n",
    "<br>"
   ]
  },
  {
   "cell_type": "code",
   "execution_count": 1,
   "id": "c4d2cde8",
   "metadata": {},
   "outputs": [
    {
     "name": "stdout",
     "output_type": "stream",
     "text": [
      "CHEESECAKE\n",
      "5\n"
     ]
    }
   ],
   "source": [
    "def longest_palindrome_subsequence(word):\n",
    "    word.upper()\n",
    "    n = len(word)\n",
    "    reverse = ''.join(reversed(word))  \n",
    "\n",
    "    dp = [[0]*(n + 1) for _ in range(n+1)]\n",
    "\n",
    "    for i in range(1, n + 1):\n",
    "        for j in range(1, n + 1):\n",
    "            if word[i - 1] == reverse[j - 1]:\n",
    "                dp[i][j] = dp[i - 1][j - 1] + 1\n",
    "            else:\n",
    "                dp[i][j] = max(dp[i - 1][j], dp[i][j - 1])\n",
    "\n",
    "    return dp[n][n]  \n",
    "\n",
    "word = input()\n",
    "print(longest_palindrome_subsequence(word))"
   ]
  },
  {
   "cell_type": "markdown",
   "id": "b557cef9",
   "metadata": {},
   "source": [
    "## Solution2\n",
    "### 알고리즘\n",
    "- 1. n*n의 이차원 배열 dp 테이블을 초기화한다.\n",
    "  - n : 단어 길이\n",
    "  - dp[i][j] : 인덱스 i에서 j까지의 하위 문자열에서 가장 긴 회문 부수열의 길이\n",
    "- 2. dp[i][i] = 1 : 길이 1의 회문\n",
    "- 3. 2~n까지 하위 부수열의 길이인 lenCtrl을 반복한다. 이는 고려 중인 하위 문자열의 길이를 나타낸다.\n",
    "- 4. 각 길이 lenCtrl에 대해 하위 문자열의 가능한 모든 시작 인덱스 i를 반복한다.\n",
    "- 5. i와 lenCtrl을 기준으로 종료 인덱스 j를 계산한다.\n",
    "- 6. 인덱스 i와 j의 문자가 같고 lenCtrl이 2이면 ->  dp[i][j] = 2\n",
    "  - 하위 문자열의 길이가 2이고 두 문자가 모두 같으므로 회문 길이는 2이다.\n",
    "- 7. 인덱스 i와 j의 문자가 같고 lenCtrl이 2보다 크면 -> dp[i][j] = dp[i + 1][j - 1] + 2\n",
    "  -  첫 번째와 마지막 문자를 제외한 하위 문자열의 회문 길이에 2를 더하여 현재 회문 길이를 구한다.\n",
    "- 8. 인덱스 i와 j의 문자가 같지 않으면 dp[i][j]를 dp[i][j - 1]과 dp[i + 1]의 최대값\n",
    "  - 첫 번째 혹은 마지막 문자를 제외하여 얻은 회문 길이의 최대값\n",
    "- 9. 마지막으로 ‘dp[0][n - 1]’는 전체 단어에서 가장 긴 회문의 부수열 길이를 나타내므로 반환한다.\n",
    "\n",
    "<br>\n",
    "\n",
    "### 수행시간\n",
    "- 시간 복잡도 : O(n^2) (n은 입력 단어의 길이)\n",
    "- 2부터 n까지의 부수열 길이를 반복하고 각 길이에 대해 가능한 모든 시작 인덱스를 반복하기 때문이다.\n",
    "\n",
    "<br>"
   ]
  },
  {
   "cell_type": "code",
   "execution_count": 2,
   "id": "90aa5370",
   "metadata": {},
   "outputs": [
    {
     "name": "stdout",
     "output_type": "stream",
     "text": [
      "RADAR\n",
      "5\n"
     ]
    }
   ],
   "source": [
    "def longest_palindrome_subsequence(word):\n",
    "    n = len(word)\n",
    "    dp = [[0] * n for _ in range(n)]\n",
    "\n",
    "    for i in range(n):\n",
    "        dp[i][i] = 1\n",
    "\n",
    "    for lenCtrl in range(2, n + 1):\n",
    "        for i in range(n - lenCtrl + 1):\n",
    "            j = i + lenCtrl - 1\n",
    "            if word[i] == word[j] and lenCtrl == 2:\n",
    "                dp[i][j] = 2\n",
    "            elif word[i] == word[j]:\n",
    "                dp[i][j] = dp[i + 1][j - 1] + 2\n",
    "            else:\n",
    "                dp[i][j] = max(dp[i][j - 1], dp[i + 1][j])\n",
    "\n",
    "    return dp[0][n - 1]\n",
    "\n",
    "word = input()\n",
    "print(longest_palindrome_subsequence(word))"
   ]
  },
  {
   "cell_type": "code",
   "execution_count": null,
   "id": "252e9c5a",
   "metadata": {},
   "outputs": [],
   "source": []
  }
 ],
 "metadata": {
  "kernelspec": {
   "display_name": "Python 3 (ipykernel)",
   "language": "python",
   "name": "python3"
  },
  "language_info": {
   "codemirror_mode": {
    "name": "ipython",
    "version": 3
   },
   "file_extension": ".py",
   "mimetype": "text/x-python",
   "name": "python",
   "nbconvert_exporter": "python",
   "pygments_lexer": "ipython3",
   "version": "3.9.13"
  }
 },
 "nbformat": 4,
 "nbformat_minor": 5
}

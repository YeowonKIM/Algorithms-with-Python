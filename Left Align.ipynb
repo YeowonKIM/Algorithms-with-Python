{
 "cells": [
  {
   "cell_type": "markdown",
   "id": "e62452c3",
   "metadata": {},
   "source": [
    "## 왼쪽 정렬\n",
    "\n",
    "<br>\n",
    "\n",
    "### 문제\n",
    "- 워드나 한글 등의 워드 프로세스 프로그램에서는 왼쪽, 오른쪽, 중간 등의 문단 정렬 기능을 제공한다.\n",
    "  - 각 줄의 처음은 단어로 시작하고, 두 단어 사이에는 정확히 하나의 공백(space)를 넣는다고 가정한다.\n",
    "  - 한 단어는 반드시 같은 줄에 포함되어 있어야 한다. (두 줄에 걸치면 X)\n",
    "- 문장을 페이지 폭이 W인 페이지에서 왼쪽 정렬을 하기 위해서, 각 줄 마다 penalty 점수를 부여한다.\n",
    "  - penalty 점수 = (W - 해당 줄의 글자 수 - 단어 사이의 공백 수)**3\n",
    "  - ex) Apple ate apple. ->  penalty 점수 = (16-14)**3 = 8\n",
    "- 최종 왼쪽 맟춤의 penalty 값은 각 줄의 penalty 값의 합으로 정의된다.\n",
    "\n",
    "<br>\n",
    "\n",
    "### 입출력 예시\n",
    "- 입력 : W 값을 첫 번째 줄에서 먼저 입력 받고, 두 번째 줄에서 여러 문장을 한 줄로 입력 받는다.\n",
    "  - 입력 받은 문장을 공백 기준으로 split하여, 폭이 W인 페이지에 왼쪽 정렬하는데, penalty 값이 최소가 되도록 한다. (DP로 해결)\n",
    "  - 단, W값은 가장 긴 단어(구둣점 포함)의 길이보다 같거나 크다고 가정해도 된다.\n",
    "- 출력 : 최소 penalty 값\n",
    "\n",
    "<br>\n",
    "\n",
    "- ex1\n",
    "  - 입력 : 12 <br>\n",
    "    ape eats apple cider a lot.\n",
    "  - 출력 : 281\n",
    "<br>\n",
    "\n",
    "\n",
    "- ex2\n",
    "    - 입력 : 8 <br>\n",
    "      ape eats apple cider a lot.\n",
    "    - 출력 : 62\n",
    "  \n",
    "  <br>"
   ]
  },
  {
   "cell_type": "markdown",
   "id": "9ec92768",
   "metadata": {},
   "source": [
    "### 알고리즘\n",
    "-  1. 페이지 폭 W와 문장을 입력 받는다.\n",
    "  - 문장을 공백으로 split 하여 단어로 분리한 후, 단어들을 words 리스트로 저장하고 각 단어의 길이를 인덱스에 맞게 len_words 리스트로 저장한다.\n",
    "- 2. Words 리스트의 length만큼의 dp 테이블을 리스트로 만들고, 모두 0으로 초기화한다.\n",
    "- 3. dp[0]은 첫 번째 인덱스 단어의 penalty를 계산하여 초기화한다.\n",
    "- 4. 현재 글자 수를 cnt_letters에 저장한다.\n",
    "  - 이후부터 dp[i]에 이전 단어까지의 dp 테이블에 저장된 값을 현재 단어를 포함하여 갱신한다.\n",
    "- 5. 현재 단어의 이전 단어들을 확인하면서, 한 페이지에 단어가 W 이하로 들어갈 수 있는 여러 경우를 고려한다.\n",
    "  - 5-1. 이중 for문의 안쪽에서, 이전 단어의 글자 수와 공백을 포함하여 글자수를 센다.\n",
    "  - 5-2. 공백 포함하여 센 글자수가 W보다 크다면 반복문을 break 한다.\n",
    "  - 5-3. W 이하인 경우, 현재까지 공백 포함 글자수로 penalty 값을 정한다.\n",
    "- 6. dp[i]와 dp[j-1] + penalty 중에서 작은 값을 dp[i] 값으로 갱신한다.\n",
    "- 7. dp[n-1]은 최소 penalty 값이므로 출력한다.\n",
    "\n",
    "<br>\n"
   ]
  },
  {
   "cell_type": "markdown",
   "id": "de6f1fd6",
   "metadata": {},
   "source": [
    "### 수행시간\n",
    "-  O(n^2)\n",
    "    -  이중 for문에서 i에 대해 j를 역순으로 반복하기 때문이다.\n",
    "\n",
    "- DP 점화식\n",
    "  - dp[i] = (W - len_words[i])**3 + dp[i-1]\n",
    "  - dp[i] = (W - len_words[i])**3 (i=0)\n",
    "\n",
    "<br>"
   ]
  },
  {
   "cell_type": "code",
   "execution_count": 1,
   "id": "3cbc35ae",
   "metadata": {},
   "outputs": [
    {
     "name": "stdout",
     "output_type": "stream",
     "text": [
      "12\n",
      "ape eats apple cider a lot.\n",
      "281\n"
     ]
    }
   ],
   "source": [
    "W = int(input())  \n",
    "sentence = input()  \n",
    "words = sentence.split()\n",
    "n = len(words)  \n",
    "\n",
    "len_words = [len(words[i]) for i in range(n)]\n",
    "\n",
    "dp = [0] * n\n",
    "dp[0] = (W - len_words[0]) ** 3\n",
    "\n",
    "for i in range(1, n):\n",
    "    cnt_letters = len_words[i]\n",
    "    dp[i] = (W - cnt_letters) ** 3 + dp[i-1]\n",
    "\n",
    "    for j in range(i-1, -1, -1):\n",
    "        cnt_letters += len_words[j] + 1\n",
    "        if cnt_letters > W:\n",
    "            break\n",
    "\n",
    "        penalty = (W - cnt_letters) ** 3\n",
    "        dp[i] = min(dp[i], dp[j-1] + penalty)\n",
    "\n",
    "print(dp[n-1])"
   ]
  },
  {
   "cell_type": "code",
   "execution_count": null,
   "id": "8f94449c",
   "metadata": {},
   "outputs": [],
   "source": []
  }
 ],
 "metadata": {
  "kernelspec": {
   "display_name": "Python 3 (ipykernel)",
   "language": "python",
   "name": "python3"
  },
  "language_info": {
   "codemirror_mode": {
    "name": "ipython",
    "version": 3
   },
   "file_extension": ".py",
   "mimetype": "text/x-python",
   "name": "python",
   "nbconvert_exporter": "python",
   "pygments_lexer": "ipython3",
   "version": "3.9.13"
  }
 },
 "nbformat": 4,
 "nbformat_minor": 5
}

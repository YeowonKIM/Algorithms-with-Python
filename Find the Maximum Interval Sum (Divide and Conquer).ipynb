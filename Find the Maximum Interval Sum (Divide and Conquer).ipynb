{
 "cells": [
  {
   "cell_type": "markdown",
   "id": "35bf5bde",
   "metadata": {},
   "source": [
    "## 최대 구간합 구하기 (분할 정복)\n",
    "\n",
    "<br>\n",
    "\n",
    "- n개의  정수를 입력 받아 리스트 A에 저장한다.\n",
    "  (정수 값의 범위는 -1000 ~1000)\n",
    "- A에 저장된 정수들에 대해, A[i] + A[i+1] + ... + A[j-1] + A[j] 값이 최대가 되는 i <= j를 계산한 후, 그 최대값을 출력한다.\n",
    "  - 반드시 분할 정복 방법으로 구현할 것\n",
    "  \n",
    "<br>\n",
    "\n",
    "### 분할 정복 \n",
    "- 분할 정복 방법은 A의 값을 반으로 분할하면, 최대 구간 합은 다음 세 가지 중 하나이다.\n",
    "  - (1) A의 왼쪽 반 구간에 존재하는 경우\n",
    "  - (2) A의 오른쪽 반 구간에 존재하는 경우\n",
    "  - (3) A의 양쪽에 모두 걸치는 경우\n",
    "- 1, 2의 경우는 재귀적으로 해결하고,3의 경우에는 A[m]에서 끝나는 왼쪽의 최대 구간과 A[m+1]로 시작하는 오른쪽 최대 구간의 합을 구한다. (m = (left+right)//2)\n",
    "- 최대 구간합은 1, 2, 3의 경우 중 합이 최대인 구간이다.\n",
    "\n",
    "<br>\n",
    "\n",
    "### 입출력 예시\n",
    "- 입력1 : 0 -2 -2 -1 -4 4 1 0 -5 <br>\n",
    "  출력1 : 5\n",
    "\n",
    "- 입력2 : -1 3 2 -1 4 3 5 3 4 5 -2 <br>\n",
    "  출력2 : 28\n",
    "\n",
    "\n",
    "<br>"
   ]
  },
  {
   "cell_type": "markdown",
   "id": "9ca1afd4",
   "metadata": {},
   "source": [
    "### 알고리즘 설명\n",
    "- 배열 A에서 가장 큰 연속 부분합을 찾는 분할 정복 알고리즘\n",
    "\n",
    "\n",
    "\n",
    "- 1. 함수 divide_conquer에서 배열 A와 A의 왼쪽 끝 인덱스(left)와 오른쪽 끝 인덱스(right)를 파라미터로 받는다.\n",
    "- 2. 배열의 크기가 0인 경우에는 A[left]를 반환한다.\n",
    "- 3. 그렇지 않은 경우, 중간 지점(mid)를 기준으로 분할하고, 분할된 왼쪽과 오른쪽 배열에서 가장 큰 연속 부분합을 찾는다. (lt_sum, rt_sum)\n",
    "  -  3-1. lt_sum : 왼쪽 배열의 mid부터 시작해서 왼쪽 끝까지 합을 구하면서 부분합 중 가장 큰 값을 저장한다.\n",
    "  -  3-2. rt_sum : 오른쪽 배열의 mid+1부터 시작해서 오른쪽 끝까지 합을 구하면서 부분합 중 가장 큰 값을 저장한다.\n",
    "- 4. 이전과 같은 방식으로, 왼쪽과 오른쪽 배열에서 구한 최대 연속 부분합과 배열의 중간에 걸쳐 있는 부분합의 합, 그리고 오른쪽과 왼쪽 중 큰 값을 either로 지정한다.\n",
    "- 5. 마지막으로 lt_sum+rt_sumrhk either 중 큰 값을 반환한다.\n",
    "\n",
    "<br>\n",
    "\n",
    "### 시간 복잡도 계산 \n",
    "-  T(n) = 2T(n/2) + cn\n",
    "- O(nlogn)\n",
    "- 설명 \n",
    "  - 왼쪽 배열과 오른쪽 배열을 나누고, 각각의 배열에서 가장 큰 연속 부분합을 찾는 과정에서 O(n) 시간이 소요된다.\n",
    "  - 이를 분할 정복으로 수행하므로, 재귀적으로 문제를 작은 크기로 나누어 두 번 분할 하는 데에는 O(logn) 시간이 소요된다.\n",
    "  - 따라서 전체 시간 복잡도는 O(nlogn)이 된다."
   ]
  },
  {
   "cell_type": "code",
   "execution_count": 2,
   "id": "7d3b0364",
   "metadata": {},
   "outputs": [
    {
     "name": "stdout",
     "output_type": "stream",
     "text": [
      "0 -2 -2 -1 -4 4 1 0 -5 \n",
      "5\n"
     ]
    }
   ],
   "source": [
    "def divide_conquer(A, left, right): # 1\n",
    "\n",
    "    if (left == right):  # 2\n",
    "        return A[left]  \n",
    "    \n",
    "    mid = (left+right) // 2\n",
    "    lt_sum = float('-inf')\n",
    "    rt_sum = float('-inf')\n",
    "    total = 0 \n",
    "    \n",
    "    for i in range(mid, left-1, -1):  # 3-1\n",
    "        total += A[i];\n",
    "        lt_sum = max(lt_sum, total);\n",
    "    \n",
    "    total = 0;\n",
    "    for j in range(mid+1, right): # 3-2\n",
    "        total += A[j];\n",
    "        rt_sum = max(rt_sum, total);\n",
    "    \n",
    "    either = max(divide_conquer(A, left, mid), divide_conquer(A, mid+1, right))  # 4\n",
    "    \n",
    "    return max(lt_sum+rt_sum, either)  #5\n",
    "\n",
    "A = list(map(int,input().split()))\n",
    "print(divide_conquer(A, 0, len(A)-1))"
   ]
  },
  {
   "cell_type": "code",
   "execution_count": null,
   "id": "02190b23",
   "metadata": {},
   "outputs": [],
   "source": []
  }
 ],
 "metadata": {
  "kernelspec": {
   "display_name": "Python 3 (ipykernel)",
   "language": "python",
   "name": "python3"
  },
  "language_info": {
   "codemirror_mode": {
    "name": "ipython",
    "version": 3
   },
   "file_extension": ".py",
   "mimetype": "text/x-python",
   "name": "python",
   "nbconvert_exporter": "python",
   "pygments_lexer": "ipython3",
   "version": "3.9.13"
  }
 },
 "nbformat": 4,
 "nbformat_minor": 5
}
